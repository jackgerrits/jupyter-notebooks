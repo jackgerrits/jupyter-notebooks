{
 "cells": [
  {
   "cell_type": "markdown",
   "metadata": {},
   "source": [
    "# Personalizing news content using Contextual Bandits"
   ]
  },
  {
   "cell_type": "markdown",
   "metadata": {},
   "source": [
    "In the [Contextual Bandit(CB) introduction tutorial](https://cheng-tan.github.io/guides/contextual_bandits.html), we learnt about CB and different CB algorithms. In this tutorial we will mimic the scenario of personalizing news content on a site, using CB, to web users. The goal is to maximize user engagement quantified by measuring click through rate (ctr).\n",
    "\n",
    "Let's recall that a CB setting has four components: \n",
    "\n",
    "- context\n",
    "- action\n",
    "- probability of choosing action\n",
    "- reward/cost for chosen action\n",
    "\n",
    "We want to maximize reward (ctr) or minimize loss (-ctr)\n",
    "\n",
    "- We have two website visitors: 'Tom' and 'Anna'\n",
    "- They visit the website at two different times in a day: 'morning' and 'afternoon'\n",
    "\n",
    "The **context** is therefore (user, time_of_day)\n",
    "\n",
    "We have the option of recommending a variety of articles to Tom and Anna\n",
    "\n",
    "Therefore, **actions** are the different choices of articles: \"politics\", \"sports\", \"music\", \"food\", \"finance\", \"health\", \"cheese\"\n",
    "\n",
    "The **reward** is whether they click on the article or not: 'click' or 'no click'\n",
    "\n",
    "In the real world, we will have to learn Tom and Anna's preferences for articles i.e. the \"reward function\". Since this is a simulation we will define a reward function and see if the learner can optimize towards the reward function as we see more samples.\n",
    "\n",
    "We will also modify the reward function in a few different ways and see if the CB learner picks up the changes. We will compare the CTR with and without learning.\n",
    "\n",
    "Let's first start with importing the necessary packages. If you haven't installed vowpalwabbit, the easiest way to install it is to run \n",
    "\n",
    "- pip install vowpalwabbit\n",
    "\n",
    "Note: You will need 64 bit Python"
   ]
  },
  {
   "cell_type": "code",
   "execution_count": 1,
   "metadata": {},
   "outputs": [],
   "source": [
    "from vowpalwabbit import pyvw\n",
    "import random\n",
    "import matplotlib.pyplot as plt"
   ]
  },
  {
   "cell_type": "markdown",
   "metadata": {},
   "source": [
    "# Reward function"
   ]
  },
  {
   "cell_type": "code",
   "execution_count": 2,
   "metadata": {},
   "outputs": [],
   "source": [
    "# VW tries to minimize loss/cost, hence we will pass cost as -reward\n",
    "USER_LIKED_ARTICLE = -1.0\n",
    "USER_DISLIKED_ARTICLE = 0.0"
   ]
  },
  {
   "cell_type": "markdown",
   "metadata": {},
   "source": [
    "The reward function below specifies that Tom likes to read articles related to politics in the morning and articles related to music in the afternoon where as Anna likes to read articles related to sports in the morning articles related to politics in the afternoon. If the learner recommends an article that aligns with the reward function, we give a positive reward i.e. click"
   ]
  },
  {
   "cell_type": "code",
   "execution_count": 3,
   "metadata": {},
   "outputs": [],
   "source": [
    "def get_cost(context,action):\n",
    "    if context['user'] == \"Tom\":\n",
    "        if context['time_of_day'] == \"morning\" and action == 'politics':\n",
    "            return USER_LIKED_ARTICLE\n",
    "        elif context['time_of_day'] == \"afternoon\" and action == 'music':\n",
    "            return USER_LIKED_ARTICLE\n",
    "        else:\n",
    "            return USER_DISLIKED_ARTICLE\n",
    "    elif context['user'] == \"Anna\":\n",
    "        if context['time_of_day'] == \"morning\" and action == 'sports':\n",
    "            return USER_LIKED_ARTICLE\n",
    "        elif context['time_of_day'] == \"afternoon\" and action == 'politics':\n",
    "            return USER_LIKED_ARTICLE\n",
    "        else:\n",
    "            return USER_DISLIKED_ARTICLE"
   ]
  },
  {
   "cell_type": "markdown",
   "metadata": {},
   "source": [
    "# Understanding VW format"
   ]
  },
  {
   "cell_type": "code",
   "execution_count": 13,
   "metadata": {},
   "outputs": [],
   "source": [
    "# This function modifies (context, action, cost, probablity) to VW friendly format\n",
    "def to_vw_example_format(context, actions, cb_label = None):\n",
    "    if cb_label is not None:\n",
    "        chosen_action, cost, prob = cb_label\n",
    "    example_string = \"\"\n",
    "    example_string += \"shared |User user={} time_of_day={}\\n\".format(context[\"user\"], context[\"time_of_day\"])\n",
    "    for action in actions:\n",
    "        if cb_label is not None and action == chosen_action:\n",
    "            example_string += \"0:{}:{} \".format(cost, prob)\n",
    "        example_string += \"|Action article={} \\n\".format(action)\n",
    "    #Strip the last newline\n",
    "    return example_string[:-1]"
   ]
  },
  {
   "cell_type": "code",
   "execution_count": 5,
   "metadata": {},
   "outputs": [
    {
     "name": "stdout",
     "output_type": "stream",
     "text": [
      "shared | user=Tom time_of_day=morning\n",
      "| article=politics \n",
      "| article=sports \n",
      "| article=music \n",
      "| article=food \n"
     ]
    }
   ],
   "source": [
    "context = {\"user\":\"Tom\",\"time_of_day\":\"morning\"}\n",
    "actions = [\"politics\", \"sports\", \"music\", \"food\"]\n",
    "\n",
    "print(to_vw_example_format(context,actions))"
   ]
  },
  {
   "cell_type": "code",
   "execution_count": null,
   "metadata": {},
   "outputs": [],
   "source": [
    "# explain the format above"
   ]
  },
  {
   "cell_type": "markdown",
   "metadata": {},
   "source": [
    "# Getting an article/action recommendation"
   ]
  },
  {
   "cell_type": "code",
   "execution_count": 6,
   "metadata": {},
   "outputs": [],
   "source": [
    "# This function .....\n",
    "def sample_custom_pmf(pmf):\n",
    "    total = sum(pmf)\n",
    "    scale = 1/total\n",
    "    pmf = [x * scale for x in pmf]\n",
    "    draw = random.random()\n",
    "    sum_prob = 0.0\n",
    "    for index, prob in enumerate(pmf):\n",
    "        sum_prob += prob\n",
    "        if(sum_prob > draw):\n",
    "            return index, prob"
   ]
  },
  {
   "cell_type": "code",
   "execution_count": 7,
   "metadata": {},
   "outputs": [],
   "source": [
    "def get_action(vw, context, actions):\n",
    "    vw_text_example = to_vw_example_format(context,actions)\n",
    "    pmf = vw.predict(vw_text_example)\n",
    "    chosen_action_index, prob = sample_custom_pmf(pmf)\n",
    "    return actions[chosen_action_index], prob"
   ]
  },
  {
   "cell_type": "markdown",
   "metadata": {},
   "source": [
    "# Simulation set up"
   ]
  },
  {
   "cell_type": "markdown",
   "metadata": {},
   "source": [
    "Now that we have defined a reward function and we know how to get actions to recommend to Tom and Anna, all we have to do si simulate Tom and Anna visiting the website. We will choose between Tom and Anna uniformly at random and also choose their time of visit uniformly at random. You can think of this as us tossig a coin to choose between Tom and Anna (Anna if heads and Tom if tails) and another coin toss for choosing time of day."
   ]
  },
  {
   "cell_type": "code",
   "execution_count": 8,
   "metadata": {},
   "outputs": [],
   "source": [
    "def choose_user(users):\n",
    "    return random.choice(users)"
   ]
  },
  {
   "cell_type": "code",
   "execution_count": 9,
   "metadata": {},
   "outputs": [],
   "source": [
    "def choose_time_of_day(times_of_day):\n",
    "    return random.choice(times_of_day)"
   ]
  },
  {
   "cell_type": "markdown",
   "metadata": {},
   "source": [
    "We will initialize the CB learner in VW and then simulate their website visits _num_sims_ number of times. In each visit, we:\n",
    "\n",
    "- decide between Tom and Anna\n",
    "- decide time of day\n",
    "- pass context i.e. (user, time of day) to learner to get action i.e. article recommendation and probability of choosing action\n",
    "- receive reward i.e. see if user clicked or not \n",
    "- format context, action, probablity, reward in VW format\n",
    "- learn from the example\n",
    "\n",
    "We will also explore three different scenarios that could happen in the real world"
   ]
  },
  {
   "cell_type": "markdown",
   "metadata": {},
   "source": [
    "# Scenario 1"
   ]
  },
  {
   "cell_type": "markdown",
   "metadata": {},
   "source": [
    "We will use the first reward function _get_cost_ and assume that Tom and Anna do not change their preferences over time and see what happens to user engagement as we learn"
   ]
  },
  {
   "cell_type": "code",
   "execution_count": 17,
   "metadata": {},
   "outputs": [],
   "source": [
    "# initialize learner in VW\n",
    "vw = pyvw.vw(\"--cb_explore_adf -q UA --quiet --epsilon 0.2 --random_seed 30\")\n",
    "# initialize users\n",
    "users = ['Tom', 'Anna']\n",
    "# initialize times of day\n",
    "times_of_day = ['morning', 'afternoon']\n",
    "# initialize list of actions\n",
    "actions = [\"politics\", \"sports\", \"music\", \"food\", \"finance\", \"health\", \"cheese\"]\n",
    "\n",
    "# only use first reward function\n",
    "cost_sum = 0.\n",
    "ctr = [] # variable to track running CTR\n",
    "num_sims = 10000 # number of simulations to run\n",
    "for i in range(1,num_sims):\n",
    "    user = choose_user(users) # in each simulation choose a user \n",
    "    time_of_day = choose_time_of_day(times_of_day) # choose time of day for a given user\n",
    "    context = {'user': user, 'time_of_day': time_of_day}\n",
    "    action, prob = get_action(vw, context, actions)\n",
    "    cost = get_cost(context, action)\n",
    "    cost_sum += cost\n",
    "    vw_format = vw.parse(to_vw_example_format(context, actions, (action, cost, prob)),pyvw.vw.lContextualBandit)\n",
    "    #vw.learn(vw_format)\n",
    "    ctr.append(-1*cost_sum/i)"
   ]
  },
  {
   "cell_type": "code",
   "execution_count": 15,
   "metadata": {},
   "outputs": [
    {
     "data": {
      "text/plain": [
       "[<matplotlib.lines.Line2D at 0x1f80ed2da58>]"
      ]
     },
     "execution_count": 15,
     "metadata": {},
     "output_type": "execute_result"
    },
    {
     "data": {
      "image/png": "[encoded data removed]",
      "text/plain": [
       "<Figure size 432x288 with 1 Axes>"
      ]
     },
     "metadata": {
      "needs_background": "light"
     },
     "output_type": "display_data"
    }
   ],
   "source": [
    "# with learning\n",
    "plt.plot(range(1,num_sims), ctr)"
   ]
  },
  {
   "cell_type": "code",
   "execution_count": 18,
   "metadata": {},
   "outputs": [
    {
     "data": {
      "text/plain": [
       "[<matplotlib.lines.Line2D at 0x1f7ea9e90b8>]"
      ]
     },
     "execution_count": 18,
     "metadata": {},
     "output_type": "execute_result"
    },
    {
     "data": {
      "image/png": "[encoded data removed]",
      "text/plain": [
       "<Figure size 432x288 with 1 Axes>"
      ]
     },
     "metadata": {
      "needs_background": "light"
     },
     "output_type": "display_data"
    }
   ],
   "source": [
    "# without learning\n",
    "# comment vw.learn in for loop\n",
    "plt.plot(range(1,num_sims), ctr)"
   ]
  },
  {
   "cell_type": "markdown",
   "metadata": {},
   "source": [
    "# Scenario 2"
   ]
  },
  {
   "cell_type": "markdown",
   "metadata": {},
   "source": [
    "Let's say that at some point elections happened and Tom and Anna changed their preferences. This reward function below specifies that Tom likes to read articles related to politics in the morning and articles related to sports in the afternoon where as Anna likes to read articles related to politics in the morning and in the afternoon This reward function is still working with actions that the learner has seen previously."
   ]
  },
  {
   "cell_type": "code",
   "execution_count": 19,
   "metadata": {},
   "outputs": [],
   "source": [
    "def get_cost_new1(context,action):\n",
    "    if context['user'] == \"Tom\":\n",
    "        if context['time_of_day'] == \"morning\" and action == 'politics':\n",
    "            return USER_LIKED_ARTICLE\n",
    "        elif context['time_of_day'] == \"afternoon\" and action == 'sports':\n",
    "            return USER_LIKED_ARTICLE\n",
    "        else:\n",
    "            return USER_DISLIKED_ARTICLE\n",
    "    elif context['user'] == \"Anna\":\n",
    "        if context['time_of_day'] == \"morning\" and action == 'sports':\n",
    "            return USER_LIKED_ARTICLE\n",
    "        elif context['time_of_day'] == \"afternoon\" and action == 'sports':\n",
    "            return USER_LIKED_ARTICLE\n",
    "        else:\n",
    "            return USER_DISLIKED_ARTICLE"
   ]
  },
  {
   "cell_type": "markdown",
   "metadata": {},
   "source": [
    "Let us now switch to the second reward function after a few samples (running the first reward function). Recall that this reward function changes the preferences of the web users but it is still working with the same action space as before. We should see the learner pick up these changes and optimize towards the new preferences"
   ]
  },
  {
   "cell_type": "code",
   "execution_count": 25,
   "metadata": {},
   "outputs": [],
   "source": [
    "# use first reward function initially and then switch to second reward function\n",
    "\n",
    "cost_sum = 0.\n",
    "ctr = []\n",
    "num_sims = 1000\n",
    "for i in range(1,num_sims):\n",
    "    user = choose_user(users)\n",
    "    time_of_day = choose_time_of_day(times_of_day)\n",
    "    context = {'user': user, 'time_of_day': time_of_day}\n",
    "    action, prob = get_action(vw, context, actions)\n",
    "    cost = get_cost(context, action)\n",
    "    cost_sum += cost\n",
    "    vw_format = vw.parse(to_vw_example_format(context, actions, (action, cost, prob)),pyvw.vw.lContextualBandit)\n",
    "    #vw.learn(vw_format)\n",
    "    ctr.append(-1*cost_sum/i)\n",
    "for j in range(num_sims, 2* num_sims):\n",
    "    user = choose_user(users)\n",
    "    time_of_day = choose_time_of_day(times_of_day)\n",
    "    context = {'user': user, 'time_of_day': time_of_day}\n",
    "    action, prob = get_action(vw, context, actions)\n",
    "    cost = get_cost_new1(context, action)\n",
    "    cost_sum += cost\n",
    "    vw_format = vw.parse(to_vw_example_format(context, actions, (action, cost, prob)),pyvw.vw.lContextualBandit)\n",
    "    #vw.learn(vw_format)\n",
    "    ctr.append(-1*cost_sum/j)"
   ]
  },
  {
   "cell_type": "code",
   "execution_count": 24,
   "metadata": {},
   "outputs": [
    {
     "data": {
      "text/plain": [
       "[<matplotlib.lines.Line2D at 0x1f7ea8f89e8>]"
      ]
     },
     "execution_count": 24,
     "metadata": {},
     "output_type": "execute_result"
    },
    {
     "data": {
      "image/png": "[encoded data removed]",
      "text/plain": [
       "<Figure size 432x288 with 1 Axes>"
      ]
     },
     "metadata": {
      "needs_background": "light"
     },
     "output_type": "display_data"
    }
   ],
   "source": [
    "# with learning\n",
    "plt.plot(range(1,2*num_sims), ctr)"
   ]
  },
  {
   "cell_type": "code",
   "execution_count": 26,
   "metadata": {},
   "outputs": [
    {
     "data": {
      "text/plain": [
       "[<matplotlib.lines.Line2D at 0x1f89b5e86a0>]"
      ]
     },
     "execution_count": 26,
     "metadata": {},
     "output_type": "execute_result"
    },
    {
     "data": {
      "image/png": "[encoded data removed]",
      "text/plain": [
       "<Figure size 432x288 with 1 Axes>"
      ]
     },
     "metadata": {
      "needs_background": "light"
     },
     "output_type": "display_data"
    }
   ],
   "source": [
    "# without learning\n",
    "# comment vw.learn in both for loops\n",
    "plt.plot(range(1,2*num_sims), ctr)"
   ]
  },
  {
   "cell_type": "markdown",
   "metadata": {},
   "source": [
    "# Scenario 3"
   ]
  },
  {
   "cell_type": "markdown",
   "metadata": {},
   "source": [
    "Let's say that at some point a food festival happened and Tom and Anna changed their preferences. This reward function below specifies that Tom likes to read articles related to politics in the morning and articles related to food in the afternoon where as Anna likes to read articles related to food in the morning and in the afternoon. This reward function is now rewarding new actions i.e. actions that the learner hasn't seen so far."
   ]
  },
  {
   "cell_type": "code",
   "execution_count": 4,
   "metadata": {},
   "outputs": [],
   "source": [
    "def get_cost_new2(context,action):\n",
    "    if context['user'] == \"Tom\":\n",
    "        if context['time_of_day'] == \"morning\" and action == 'politics':\n",
    "            return USER_LIKED_ARTICLE\n",
    "        elif context['time_of_day'] == \"afternoon\" and action == 'food':\n",
    "            return USER_LIKED_ARTICLE\n",
    "        else:\n",
    "            return USER_DISLIKED_ARTICLE\n",
    "    elif context['user'] == \"Anna\":\n",
    "        if context['time_of_day'] == \"morning\" and action == 'food':\n",
    "            return USER_LIKED_ARTICLE\n",
    "        elif context['time_of_day'] == \"afternoon\" and action == 'food':\n",
    "            return USER_LIKED_ARTICLE\n",
    "        else:\n",
    "            return USER_DISLIKED_ARTICLE"
   ]
  },
  {
   "cell_type": "markdown",
   "metadata": {},
   "source": [
    "Let us now switch to the third reward function after a few samples (running the first reward function). Recall that this reward function changes the preferences of the web users and is working with a **different** action space than before. We should see the learner pick up these changes and optimize towards the new preferences"
   ]
  },
  {
   "cell_type": "code",
   "execution_count": 23,
   "metadata": {},
   "outputs": [],
   "source": [
    "# use first reward function initially and then switch to third reward function\n",
    "\n",
    "cost_sum = 0.\n",
    "ctr = []\n",
    "num_sims = 10000\n",
    "for i in range(1,num_sims):\n",
    "    user = choose_user(users)\n",
    "    time_of_day = choose_time_of_day(times_of_day)\n",
    "    context = {'user': user, 'time_of_day': time_of_day}\n",
    "    action, prob = get_action(vw, context, actions)\n",
    "    cost = get_cost(context, action)\n",
    "    cost_sum += cost\n",
    "    vw_format = vw.parse(to_vw_example_format(context, actions, (action, cost, prob)),pyvw.vw.lContextualBandit)\n",
    "    #vw.learn(vw_format)\n",
    "    ctr.append(-1*cost_sum/i)\n",
    "for j in range(num_sims, 2* num_sims):\n",
    "    user = choose_user(users)\n",
    "    time_of_day = choose_time_of_day(times_of_day)\n",
    "    context = {'user': user, 'time_of_day': time_of_day}\n",
    "    action, prob = get_action(vw, context, actions)\n",
    "    cost = get_cost_new2(context, action)\n",
    "    cost_sum += cost\n",
    "    vw_format = vw.parse(to_vw_example_format(context, actions, (action, cost, prob)),pyvw.vw.lContextualBandit)\n",
    "    #vw.learn(vw_format)\n",
    "    ctr.append(-1*cost_sum/j)"
   ]
  },
  {
   "cell_type": "code",
   "execution_count": 22,
   "metadata": {},
   "outputs": [
    {
     "data": {
      "text/plain": [
       "[<matplotlib.lines.Line2D at 0x1b36c4d5bc8>]"
      ]
     },
     "execution_count": 22,
     "metadata": {},
     "output_type": "execute_result"
    },
    {
     "data": {
      "image/png": "[encoded data removed]",
      "text/plain": [
       "<Figure size 432x288 with 1 Axes>"
      ]
     },
     "metadata": {
      "needs_background": "light"
     },
     "output_type": "display_data"
    }
   ],
   "source": [
    "# with learning\n",
    "plt.plot(range(1,2*num_sims), ctr)"
   ]
  },
  {
   "cell_type": "code",
   "execution_count": 25,
   "metadata": {},
   "outputs": [
    {
     "data": {
      "text/plain": [
       "[<matplotlib.lines.Line2D at 0x1b43b7b5ac8>]"
      ]
     },
     "execution_count": 25,
     "metadata": {},
     "output_type": "execute_result"
    },
    {
     "data": {
      "image/png": "[encoded data removed]",
      "text/plain": [
       "<Figure size 432x288 with 1 Axes>"
      ]
     },
     "metadata": {
      "needs_background": "light"
     },
     "output_type": "display_data"
    }
   ],
   "source": [
    "# without learning\n",
    "# comment vw learn in both for loops\n",
    "plt.plot(range(1,2*num_sims), ctr)"
   ]
  },
  {
   "cell_type": "code",
   "execution_count": null,
   "metadata": {},
   "outputs": [],
   "source": [
    "# things to do\n",
    "# (1) change reward function and see how learning happens - DONE (PAVITHRA)\n",
    "# (2) polish content - good story telling - IN PROGRESS (PAVITHRA)\n",
    "# (3) add comments - IN PROGRESS (PAVITHRA)\n",
    "# (4) add plots to see how rewards change per action over time THINKING THROUGH THIS (PAVITHRA)\n",
    "# (5) Scenario 4: add some noise to reward function\n",
    "# (6) explain VW example format\n",
    "# (7) label plots properly\n",
    "# (8) Summarize results and wrap up story"
   ]
  }
 ],
 "metadata": {
  "kernelspec": {
   "display_name": "Python 3",
   "language": "python",
   "name": "python3"
  },
  "language_info": {
   "codemirror_mode": {
    "name": "ipython",
    "version": 3
   },
   "file_extension": ".py",
   "mimetype": "text/x-python",
   "name": "python",
   "nbconvert_exporter": "python",
   "pygments_lexer": "ipython3",
   "version": "3.7.3"
  }
 },
 "nbformat": 4,
 "nbformat_minor": 2
}
